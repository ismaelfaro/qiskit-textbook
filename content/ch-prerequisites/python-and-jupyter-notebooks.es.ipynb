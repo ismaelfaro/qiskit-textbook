{
 "cells": [
  {
   "cell_type": "markdown",
   "metadata": {},
   "source": [
    "## Introducción a Python y Jupyter notebooks"
   ]
  },
  {
   "cell_type": "markdown",
   "metadata": {},
   "source": [
    "[Python](https://www.python.org) es un lenguaje de programación donde no se necesita compilar. Simplemente se puede ejecutar línea por línea (que es cómo lo usaremos en un notebook). Por lo que Python es un excelente lugar para comenzar, si se es bastante nuevo en programación. La versión actual de este lenguaje es Python 3, que es lo que usaremos aquí.\n",
    "\n",
    "Una forma de programar en Python es usar un cuaderno Jupyter ([Jupyter notebook](https://jupyter.org)). Esta es probablemente la mejor manera de combinar programación, texto e imágenes. En un cuaderno, todo se presenta en celdas. Las celdas de texto y las celdas de código son las más comunes. Si se ve esta sección como un cuaderno Jupyter, este  texto que está leyendo ahora está en una celda de texto. Una celda de código se puede encontrar justo debajo.\n",
    "\n",
    "Para ejecutar el contenido de una celda de código, puede hacer clic en ella y presionar Shift + Enter. O si hay una pequeña flecha a la izquierda, puede hacer clic en ella, o en el botón \"run\" de la barra de herramientas superior."
   ]
  },
  {
   "cell_type": "code",
   "execution_count": 1,
   "metadata": {},
   "outputs": [
    {
     "data": {
      "text/plain": [
       "2"
      ]
     },
     "execution_count": 1,
     "metadata": {},
     "output_type": "execute_result"
    }
   ],
   "source": [
    "1 + 1"
   ]
  },
  {
   "cell_type": "markdown",
   "metadata": {},
   "source": [
    "Si está viendo esta sección como un cuaderno de Jupyter, ejecute cada una de las celdas de código a medida que lee."
   ]
  },
  {
   "cell_type": "code",
   "execution_count": 2,
   "metadata": {},
   "outputs": [
    {
     "data": {
      "text/plain": [
       "1.5"
      ]
     },
     "execution_count": 2,
     "metadata": {},
     "output_type": "execute_result"
    }
   ],
   "source": [
    "a = 1\n",
    "b = 0.5\n",
    "a + b"
   ]
  },
  {
   "cell_type": "markdown",
   "metadata": {},
   "source": [
    "Arriba hemos creamos dos variables, que llamamos `a` y` b`, y les dimos valores. Luego los agregamos. La aritmética simple como esta es bastante sencilla en Python."
   ]
  },
  {
   "cell_type": "markdown",
   "metadata": {},
   "source": [
    "Las variables en Python tienes distintos formatos. A continuación hay algunos ejemplos."
   ]
  },
  {
   "cell_type": "code",
   "execution_count": 1,
   "metadata": {},
   "outputs": [],
   "source": [
    "an_integer = 42 # Un número entero\n",
    "a_float = 0.1 # Un número no entero, hasta una precisión fija\n",
    "a_boolean = True # Un valor que puede ser verdadero o falso\n",
    "a_string = '''simplemente encierre el texto entre dos o dos ' o \", o haga lo que hicimos para esta cadena''' # Texto\n",
    "none_of_the_above = None # La ausencia de cualquier valor real o tipo de variable"
   ]
  },
  {
   "cell_type": "markdown",
   "metadata": {},
   "source": [
    "Además de los números, otra estructura de datos que se pueden usar es la * lista *."
   ]
  },
  {
   "cell_type": "code",
   "execution_count": 4,
   "metadata": {},
   "outputs": [],
   "source": [
    "a_list = [0,1,2,3]"
   ]
  },
  {
   "cell_type": "markdown",
   "metadata": {},
   "source": [
    "Las listas en Python pueden contener cualquier combinación de tipos variables."
   ]
  },
  {
   "cell_type": "code",
   "execution_count": 2,
   "metadata": {},
   "outputs": [],
   "source": [
    "a_list = [ 42, 0.5, True, [0,1], None, 'Banana' ]"
   ]
  },
  {
   "cell_type": "markdown",
   "metadata": {},
   "source": [
    "En Python las listas están indexadas comenzando en `0`(a diferencia de lenguajes como Fortran). Así es como se accede al '42' al comienzo de la lista anterior."
   ]
  },
  {
   "cell_type": "code",
   "execution_count": 6,
   "metadata": {},
   "outputs": [
    {
     "data": {
      "text/plain": [
       "42"
      ]
     },
     "execution_count": 6,
     "metadata": {},
     "output_type": "execute_result"
    }
   ],
   "source": [
    "a_list[0]"
   ]
  },
  {
   "cell_type": "markdown",
   "metadata": {},
   "source": [
    "Una estructura de datos similar es la * tupla *."
   ]
  },
  {
   "cell_type": "code",
   "execution_count": 7,
   "metadata": {},
   "outputs": [
    {
     "data": {
      "text/plain": [
       "42"
      ]
     },
     "execution_count": 7,
     "metadata": {},
     "output_type": "execute_result"
    }
   ],
   "source": [
    "a_tuple = ( 42, 0.5, True, [0,1], None, 'Banana' )\n",
    "a_tuple[0]"
   ]
  },
  {
   "cell_type": "markdown",
   "metadata": {},
   "source": [
    "Una diferencia importante entre la lista y la tupla es que los elementos de la lista se pueden cambiar"
   ]
  },
  {
   "cell_type": "code",
   "execution_count": 8,
   "metadata": {},
   "outputs": [
    {
     "name": "stdout",
     "output_type": "stream",
     "text": [
      "[42, 0.5, True, [0, 1], None, 'apple']\n"
     ]
    }
   ],
   "source": [
    "a_list[5] = 'apple'\n",
    "\n",
    "print(a_list)"
   ]
  },
  {
   "cell_type": "markdown",
   "metadata": {},
   "source": [
    "mientras que la tupla no se pueden"
   ]
  },
  {
   "cell_type": "code",
   "execution_count": 9,
   "metadata": {},
   "outputs": [
    {
     "ename": "TypeError",
     "evalue": "'tuple' object does not support item assignment",
     "output_type": "error",
     "traceback": [
      "\u001b[0;31m---------------------------------------------------------------------------\u001b[0m",
      "\u001b[0;31mTypeError\u001b[0m                                 Traceback (most recent call last)",
      "\u001b[0;32m<ipython-input-9-42d08f1e5606>\u001b[0m in \u001b[0;36m<module>\u001b[0;34m\u001b[0m\n\u001b[0;32m----> 1\u001b[0;31m \u001b[0ma_tuple\u001b[0m\u001b[0;34m[\u001b[0m\u001b[0;36m5\u001b[0m\u001b[0;34m]\u001b[0m \u001b[0;34m=\u001b[0m \u001b[0;34m'apple'\u001b[0m\u001b[0;34m\u001b[0m\u001b[0m\n\u001b[0m",
      "\u001b[0;31mTypeError\u001b[0m: 'tuple' object does not support item assignment"
     ]
    }
   ],
   "source": [
    "a_tuple[5] = 'apple'"
   ]
  },
  {
   "cell_type": "markdown",
   "metadata": {},
   "source": [
    "También se puede agregar un elemento al final de una lista, algo que no se puede hacer con las tuplas."
   ]
  },
  {
   "cell_type": "code",
   "execution_count": 10,
   "metadata": {},
   "outputs": [
    {
     "name": "stdout",
     "output_type": "stream",
     "text": [
      "[42, 0.5, True, [0, 1], None, 'apple', 3.14]\n"
     ]
    }
   ],
   "source": [
    "a_list.append( 3.14 )\n",
    "\n",
    "print(a_list)"
   ]
  },
  {
   "cell_type": "markdown",
   "metadata": {},
   "source": [
    "Otra estructura de datos útil es el * diccionario *. Este almacena un conjunto de * valores *, cada uno etiquetado con una * clave * única.\n",
    "\n",
    "Los valores pueden ser de cualquier tipo de datos. Las claves pueden ser de tipo simple tal como (entero, flotante, booleano, cadena) podrian ser una tupla pero no una lista."
   ]
  },
  {
   "cell_type": "code",
   "execution_count": 11,
   "metadata": {},
   "outputs": [],
   "source": [
    "a_dict = { 1:'This is the value, for the key 1', 'This is the key for a value 1':1, False:':)', (0,1):256 }"
   ]
  },
  {
   "cell_type": "markdown",
   "metadata": {},
   "source": [
    "Se accede a los valores utilizando las claves"
   ]
  },
  {
   "cell_type": "code",
   "execution_count": 12,
   "metadata": {},
   "outputs": [
    {
     "data": {
      "text/plain": [
       "1"
      ]
     },
     "execution_count": 12,
     "metadata": {},
     "output_type": "execute_result"
    }
   ],
   "source": [
    "a_dict['This is the key for a value 1']"
   ]
  },
  {
   "cell_type": "markdown",
   "metadata": {},
   "source": [
    "Se pueden agregar nuevos pares clave / valor, simplemente proporcionando un valor para una nueva clave"
   ]
  },
  {
   "cell_type": "code",
   "execution_count": 13,
   "metadata": {},
   "outputs": [],
   "source": [
    "a_dict['new key'] = 'new_value'"
   ]
  },
  {
   "cell_type": "markdown",
   "metadata": {},
   "source": [
    "Para recorrer un rango de números, la sintaxis es"
   ]
  },
  {
   "cell_type": "code",
   "execution_count": 14,
   "metadata": {},
   "outputs": [
    {
     "name": "stdout",
     "output_type": "stream",
     "text": [
      "0\n",
      "1\n",
      "2\n",
      "3\n",
      "4\n"
     ]
    }
   ],
   "source": [
    "for j in range(5):\n",
    "    print(j)"
   ]
  },
  {
   "cell_type": "markdown",
   "metadata": {},
   "source": [
    "Tenga en cuenta que comienza en 0 (por defecto) y termina en n-1 para un `rango (n)`."
   ]
  },
  {
   "cell_type": "markdown",
   "metadata": {},
   "source": [
    "También se puede recorrer cualquier objeto 'iterable', como listas"
   ]
  },
  {
   "cell_type": "code",
   "execution_count": 15,
   "metadata": {},
   "outputs": [
    {
     "name": "stdout",
     "output_type": "stream",
     "text": [
      "42\n",
      "0.5\n",
      "True\n",
      "[0, 1]\n",
      "None\n",
      "apple\n",
      "3.14\n"
     ]
    }
   ],
   "source": [
    "for j in a_list:\n",
    "    print(j)"
   ]
  },
  {
   "cell_type": "markdown",
   "metadata": {},
   "source": [
    "o diccionarios"
   ]
  },
  {
   "cell_type": "code",
   "execution_count": 16,
   "metadata": {},
   "outputs": [
    {
     "name": "stdout",
     "output_type": "stream",
     "text": [
      "key = 1\n",
      "value = This is the value, for the key 1\n",
      "\n",
      "key = This is the key for a value 1\n",
      "value = 1\n",
      "\n",
      "key = False\n",
      "value = :)\n",
      "\n",
      "key = (0, 1)\n",
      "value = 256\n",
      "\n",
      "key = new key\n",
      "value = new_value\n",
      "\n"
     ]
    }
   ],
   "source": [
    "for key in a_dict:\n",
    "    value = a_dict[key]\n",
    "    print('key =',key)\n",
    "    print('value =',value)\n",
    "    print()"
   ]
  },
  {
   "cell_type": "markdown",
   "metadata": {},
   "source": [
    "Las declaraciones condicionales se hacen con `if`,` elif` y `else` con la siguiente sintaxis."
   ]
  },
  {
   "cell_type": "code",
   "execution_count": 17,
   "metadata": {},
   "outputs": [
    {
     "name": "stdout",
     "output_type": "stream",
     "text": [
      "We have an apple!\n"
     ]
    }
   ],
   "source": [
    "if 'strawberry' in a_list:\n",
    "    print('We have a strawberry!')\n",
    "elif a_list[5]=='apple':\n",
    "    print('We have an apple!')\n",
    "else:\n",
    "    print('Not much fruit here!')"
   ]
  },
  {
   "cell_type": "markdown",
   "metadata": {},
   "source": [
    "La importación de paquetes/librerias que contienen otras funciones se realiza con una línea como"
   ]
  },
  {
   "cell_type": "code",
   "execution_count": 18,
   "metadata": {},
   "outputs": [],
   "source": [
    "import numpy"
   ]
  },
  {
   "cell_type": "markdown",
   "metadata": {},
   "source": [
    "El paquete [`numpy`](numpy.org) es importante para hacer matemáticas"
   ]
  },
  {
   "cell_type": "code",
   "execution_count": 19,
   "metadata": {},
   "outputs": [
    {
     "data": {
      "text/plain": [
       "1.0"
      ]
     },
     "execution_count": 19,
     "metadata": {},
     "output_type": "execute_result"
    }
   ],
   "source": [
    "numpy.sin( numpy.pi/2 )"
   ]
  },
  {
   "cell_type": "markdown",
   "metadata": {},
   "source": [
    "Se debe escribir `numpy.` delante de cada comando/función de numpy para que sepa encontrar ese comando/función definido en` numpy`. Para simplificar la escritura, es común usar"
   ]
  },
  {
   "cell_type": "code",
   "execution_count": 20,
   "metadata": {},
   "outputs": [
    {
     "data": {
      "text/plain": [
       "1.0"
      ]
     },
     "execution_count": 20,
     "metadata": {},
     "output_type": "execute_result"
    }
   ],
   "source": [
    "import numpy as np\n",
    "\n",
    "np.sin( np.pi/2 )"
   ]
  },
  {
   "cell_type": "markdown",
   "metadata": {},
   "source": [
    "Entonces solo se necesita el nombre abreviado. La mayoría de la gente usa `np`, pero se puede elegir cualquier otro texto.\n",
    "\n",
    "También se puede extraer todas las funciones de 'numpy' con"
   ]
  },
  {
   "cell_type": "code",
   "execution_count": 21,
   "metadata": {},
   "outputs": [],
   "source": [
    "from numpy import *"
   ]
  },
  {
   "cell_type": "markdown",
   "metadata": {},
   "source": [
    "Entonces se puede utilizar los comandos directamente. Pero esto puede causar que los paquetes se mezclen entre sí, así que úselo con precaución."
   ]
  },
  {
   "cell_type": "code",
   "execution_count": 22,
   "metadata": {},
   "outputs": [
    {
     "data": {
      "text/plain": [
       "1.0"
      ]
     },
     "execution_count": 22,
     "metadata": {},
     "output_type": "execute_result"
    }
   ],
   "source": [
    "sin( pi/2 )"
   ]
  },
  {
   "cell_type": "markdown",
   "metadata": {},
   "source": [
    "Si se desea hacer trigonometría, álgebra lineal, etc., se puede usar `numpy`. Para dibujar graficas, se puede usar `matplotlib`. Para la teoría de grafos, tenemos `networkx`. Para la computación cuántica, `qiskit`. Para lo que se quiera, probablemente habrá un paquete para ayudarnos a hacerlo."
   ]
  },
  {
   "cell_type": "markdown",
   "metadata": {},
   "source": [
    "Algo bueno que debe se saber en cualquier idioma es cómo hacer una función.\n",
    "\n",
    "Aquí hay una función, cuyo nombre fue elegido como `do_some_maths`, cuyas entradas se llaman` Input1` y `Input2` y cuya salida se llama` the_answer`."
   ]
  },
  {
   "cell_type": "code",
   "execution_count": 23,
   "metadata": {},
   "outputs": [],
   "source": [
    "def do_some_maths ( Input1, Input2 ):\n",
    "    the_answer = Input1 + Input2\n",
    "    return the_answer"
   ]
  },
  {
   "cell_type": "markdown",
   "metadata": {},
   "source": [
    "Y se usa de la siguiente manera:"
   ]
  },
  {
   "cell_type": "code",
   "execution_count": 24,
   "metadata": {},
   "outputs": [
    {
     "name": "stdout",
     "output_type": "stream",
     "text": [
      "73\n"
     ]
    }
   ],
   "source": [
    "x = do_some_maths(1,72)\n",
    "print(x)"
   ]
  },
  {
   "cell_type": "markdown",
   "metadata": {},
   "source": [
    "Si a una función se le da un objeto, y la función llama a un método de ese objeto para alterar su estado, el efecto persistirá. Entonces, si eso es todo lo que quieres hacer, no se necesita devolver nada. Por ejemplo, hagámoslo con el método `append` de una lista."
   ]
  },
  {
   "cell_type": "code",
   "execution_count": 25,
   "metadata": {},
   "outputs": [],
   "source": [
    "def add_sausages ( input_list ):\n",
    "    if 'sausages' not in input_list:\n",
    "        input_list.append('sausages')"
   ]
  },
  {
   "cell_type": "code",
   "execution_count": 26,
   "metadata": {},
   "outputs": [
    {
     "name": "stdout",
     "output_type": "stream",
     "text": [
      "List before the function\n",
      "[42, 0.5, True, [0, 1], None, 'apple', 3.14]\n",
      "\n",
      "List after the function\n",
      "[42, 0.5, True, [0, 1], None, 'apple', 3.14, 'sausages']\n"
     ]
    }
   ],
   "source": [
    "print('List before the function')\n",
    "print(a_list)\n",
    "\n",
    "add_sausages(a_list) # function called without an output\n",
    "\n",
    "print('\\nList after the function')\n",
    "print(a_list)"
   ]
  },
  {
   "cell_type": "markdown",
   "metadata": {},
   "source": [
    "La aleatoriedad se puede generar utilizando el paquete `random`."
   ]
  },
  {
   "cell_type": "code",
   "execution_count": 27,
   "metadata": {},
   "outputs": [],
   "source": [
    "import random"
   ]
  },
  {
   "cell_type": "code",
   "execution_count": 28,
   "metadata": {},
   "outputs": [
    {
     "name": "stdout",
     "output_type": "stream",
     "text": [
      "* Results from sample 1\n",
      "\n",
      "    Random number from 0 to 1: 0.24483110888696868\n",
      "\n",
      "    Random choice from our list: [0, 1]\n",
      "\n",
      "\n",
      "* Results from sample 2\n",
      "\n",
      "    Random number from 0 to 1: 0.7426371646254912\n",
      "\n",
      "    Random choice from our list: [0, 1]\n",
      "\n",
      "\n",
      "* Results from sample 3\n",
      "\n",
      "    Random number from 0 to 1: 0.7269519228900921\n",
      "\n",
      "    Random choice from our list: 42\n",
      "\n",
      "\n",
      "* Results from sample 4\n",
      "\n",
      "    Random number from 0 to 1: 0.8707823815722878\n",
      "\n",
      "    Random choice from our list: apple\n",
      "\n",
      "\n",
      "* Results from sample 5\n",
      "\n",
      "    Random number from 0 to 1: 0.2731676546693854\n",
      "\n",
      "    Random choice from our list: True\n",
      "\n",
      "\n"
     ]
    }
   ],
   "source": [
    "for j in range(5):\n",
    "    print('* Results from sample',j+1)\n",
    "    print('\\n    Random number from 0 to 1:', random.random() )\n",
    "    print(\"\\n    Random choice from our list:\", random.choice( a_list ) )\n",
    "    print('\\n')"
   ]
  },
  {
   "cell_type": "markdown",
   "metadata": {},
   "source": [
    "Ya sabes lo básico. Ahora todo lo que se necesita es un motor de búsqueda y la intuición de saber a quién vale la pena escuchar en Stack Exchange. Entonces puedes hacer cualquier cosa con Python. Es posible que el código no sea el más 'Pytónico', pero solo los Pythonistas realmente se preocupan por eso."
   ]
  },
  {
   "cell_type": "code",
   "execution_count": null,
   "metadata": {},
   "outputs": [],
   "source": []
  }
 ],
 "metadata": {
  "kernelspec": {
   "display_name": "Python 3",
   "language": "python",
   "name": "python3"
  },
  "language_info": {
   "codemirror_mode": {
    "name": "ipython",
    "version": 3
   },
   "file_extension": ".py",
   "mimetype": "text/x-python",
   "name": "python",
   "nbconvert_exporter": "python",
   "pygments_lexer": "ipython3",
   "version": "3.7.4"
  }
 },
 "nbformat": 4,
 "nbformat_minor": 2
}
