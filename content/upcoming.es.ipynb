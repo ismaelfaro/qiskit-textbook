{
 "cells": [
  {
   "cell_type": "markdown",
   "metadata": {},
   "source": [
    "# Próximos temas"
   ]
  },
  {
   "cell_type": "markdown",
   "metadata": {},
   "source": [
    "Los siguientes temas se están desarrollando actualmente para agregarlos al libro de texto."
   ]
  },
  {
   "cell_type": "markdown",
   "metadata": {},
   "source": [
    "1. Algoritmo de Shor\n",
    "2. Descripción general de los algoritmos cuánticos para hardware NISQ (Quantum de escala intermedia ruidosa)\n",
    "3. Mapeado del modelo Ising en una computadora cuántica superconductora\n",
    "4. Resolviendo problemas de optimización combinatoria usando QAOA\n",
    "5. Resolviendo sistemas lineales de ecuaciones usando HHL\n",
    "6. Asegurando las comunicaciones usando BB84\n",
    "7. Decoherencia y relajación energética: medición de T2 y T1\n",
    "8. Optimización de pulsos de microondas para operaciones en Qubits de alta fidelidad\n",
    "9. Tomografía Estado y Proceso "
   ]
  }
 ],
 "metadata": {
  "kernelspec": {
   "display_name": "Python 3",
   "language": "python",
   "name": "python3"
  },
  "language_info": {
   "codemirror_mode": {
    "name": "ipython",
    "version": 3
   },
   "file_extension": ".py",
   "mimetype": "text/x-python",
   "name": "python",
   "nbconvert_exporter": "python",
   "pygments_lexer": "ipython3",
   "version": "3.7.3"
  }
 },
 "nbformat": 4,
 "nbformat_minor": 2
}